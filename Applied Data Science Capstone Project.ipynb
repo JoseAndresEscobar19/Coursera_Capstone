{
    "cells": [
        {
            "cell_type": "markdown",
            "metadata": {
                "collapsed": true
            },
            "source": "# Applied Data Science Capstone Project"
        },
        {
            "cell_type": "markdown",
            "metadata": {},
            "source": "## Battle of the Neighborhoods"
        },
        {
            "cell_type": "markdown",
            "metadata": {},
            "source": "Jose Escobar"
        },
        {
            "cell_type": "markdown",
            "metadata": {},
            "source": "## Table of contents\n* [Introduction: Business Problem](#introduction)\n* [Data](#data)"
        },
        {
            "cell_type": "markdown",
            "metadata": {},
            "source": "\n## Introduction <a name=\"introduction\"></a>\n"
        },
        {
            "cell_type": "markdown",
            "metadata": {},
            "source": "__Guayaquil__ is one of the most popular cities in __Ecuador__ with hundreds of restaurants, shopping centers, hotels and more. As it has a rich gastronomy, not only its own, but from other countries such as Chinese, Mexican, Italian and many more, there are plenty of restaurants in the city's neighborhoods, so the possibility of success of a new restaurant can be stifled by the presence of more popular ones. "
        },
        {
            "cell_type": "markdown",
            "metadata": {},
            "source": "Therefore, I will try to find the __best areas__ to open a restaurant where the ___competition is low for certain gastronomic themes___.\nAdvantages of each area will then be clearly expressed so that best possible final location can be chosen by stakeholders interested in opening a restaurant in this city."
        },
        {
            "cell_type": "markdown",
            "metadata": {},
            "source": "## Data <a name=\"data\"></a>"
        },
        {
            "cell_type": "markdown",
            "metadata": {},
            "source": "Based on the problem, the following necessary data sets can be identified:\n* Coordinates of the different neighborhoods in the city\n* Restaurants near or within the city's neighborhoods.\n\n\nFor neighborhoods, web scraping will be used on certain pages like this one http://www.codigopostalecuador.com/guayaquil-876 where the following can be obtained:\n* Name\n* Zip code\n* Latitude, longitude\n\nHere is an example of the data:\n<table>\n    <thead>\n        <tr>\n            <th>Zip code</th>\n            <th>Name</th>\n            <th>Latitude</th>\n            <th>Longitude</th>\n        </tr>\n    </thead>\n    <tbody>\n        <tr>\n        <td>090101</td>\n        <td>Ayacucho</td>\n        <td>-2.20548</td>\n        <td>-79.89029</td>\n        </tr>\n        <tr>\n        <td>090102</td>\n        <td>Bolivar (Sagrario)</td>\n        <td>-2.19923</td>\n        <td>-79.88992</td>\n        </tr>\n    </tbody>\n</table>\n\nFor restaurants, FourSquare API will be used which will provide different data, mainly the __type or category__ of the restaurants.\n\nFor example:\n<table>\n    <thead>\n        <tr>\n            <th>Restaurant Name</th>\n            <th>Category</th>\n            <th>Latitude</th>\n            <th>Longitude</th>\n        </tr>\n    </thead>\n    <tbody>\n        <tr>\n        <td>Dinastia Sur</td>\n        <td>Chinese Food</td>\n        <td>-2.21585</td>\n        <td>-79.8891</td>\n        </tr>\n        <tr>\n        <td>Picanteria Cordero</td>\n        <td>Seafood</td>\n        <td>-2.20578</td>\n        <td>-79.8861</td>\n        </tr>\n    </tbody>\n</table>\n\nBy using this data and machine learning techniques, I'll hope to find the best model posible to cluster these neighborhoods and analyse each to get new and valuable information"
        }
    ],
    "metadata": {
        "kernelspec": {
            "display_name": "Python 3.6",
            "language": "python",
            "name": "python3"
        },
        "language_info": {
            "codemirror_mode": {
                "name": "ipython",
                "version": 3
            },
            "file_extension": ".py",
            "mimetype": "text/x-python",
            "name": "python",
            "nbconvert_exporter": "python",
            "pygments_lexer": "ipython3",
            "version": "3.6.9"
        }
    },
    "nbformat": 4,
    "nbformat_minor": 1
}