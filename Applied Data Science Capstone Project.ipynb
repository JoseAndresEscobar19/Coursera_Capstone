{
    "cells": [
        {
            "cell_type": "markdown",
            "metadata": {
                "collapsed": true
            },
            "source": "# Applied Data Science Capstone Project"
        },
        {
            "cell_type": "markdown",
            "metadata": {},
            "source": "## Battle of the Neighborhoods"
        },
        {
            "cell_type": "markdown",
            "metadata": {},
            "source": "Jose Escobar"
        },
        {
            "cell_type": "markdown",
            "metadata": {},
            "source": "## Table of contents\n* [Introduction: Business Problem](#introduction)\n* [Data](#data)"
        },
        {
            "cell_type": "markdown",
            "metadata": {},
            "source": "\n## Introduction <a name=\"introduction\"></a>\n"
        },
        {
            "cell_type": "markdown",
            "metadata": {},
            "source": "__Guayaquil__ is one of the most popular cities in __Ecuador__ with hundreds of restaurants, shopping centers, hotels and more. As it has a rich gastronomy, not only its own, but from other countries such as Chinese, Mexican, Italian and many more, there are plenty of restaurants in the city's neighborhoods, so the possibility of success of a new restaurant can be stifled by the presence of more popular ones. "
        },
        {
            "cell_type": "markdown",
            "metadata": {},
            "source": "Therefore, I will try to find the __best areas__ to open a restaurant where the ___competition is low for certain gastronomic themes___, making use of machine learning techniques and data visualization for the presentation of the results of the project."
        },
        {
            "cell_type": "markdown",
            "metadata": {},
            "source": "## Data <a name=\"data\"></a>"
        },
        {
            "cell_type": "markdown",
            "metadata": {},
            "source": "Based on the problem, the following necessary data sets can be identified:\n* Coordinates of the different neighborhoods in the city\n* Restaurants near or within the city's neighborhoods.\n\nFor neighborhoods, web scraping will be used on certain pages where the following can be obtained:\n* Name\n* Zip code\n* Latitude, longitude\n\nFor restaurants, FourSquare API will be used which will provide different data, mainly the __type or category__ of the restaurant.\n"
        }
    ],
    "metadata": {
        "kernelspec": {
            "display_name": "Python 3.6",
            "language": "python",
            "name": "python3"
        },
        "language_info": {
            "codemirror_mode": {
                "name": "ipython",
                "version": 3
            },
            "file_extension": ".py",
            "mimetype": "text/x-python",
            "name": "python",
            "nbconvert_exporter": "python",
            "pygments_lexer": "ipython3",
            "version": "3.6.9"
        }
    },
    "nbformat": 4,
    "nbformat_minor": 1
}